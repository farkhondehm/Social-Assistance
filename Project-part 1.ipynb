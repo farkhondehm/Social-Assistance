{
 "cells": [
  {
   "cell_type": "code",
   "execution_count": 1,
   "metadata": {
    "collapsed": true
   },
   "outputs": [],
   "source": [
    "import matplotlib.pyplot as plt \n",
    "import plotly.plotly as py\n",
    "import plotly.graph_objs as go\n",
    "import numpy as np\n",
    "import pandas as pd\n",
    "import scipy\n",
    "#import peakutils\n",
    "import csv\n",
    "\n",
    "\n",
    "import numpy as np\n",
    "import pandas as pd\n",
    "from pandas import DataFrame, Series\n",
    "from pylab import rcParams\n",
    "import seaborn as sb\n",
    "import matplotlib.pyplot as plt\n",
    "import sklearn\n",
    "import statsmodels.formula.api as sm\n",
    "from sklearn.linear_model import LinearRegression\n",
    "import scipy, scipy.stats\n",
    "from sklearn.preprocessing import scale\n",
    "from collections import Counter\n",
    "from matplotlib.pyplot import scatter, xlabel, ylabel, savefig"
   ]
  },
  {
   "cell_type": "code",
   "execution_count": 2,
   "metadata": {},
   "outputs": [
    {
     "name": "stderr",
     "output_type": "stream",
     "text": [
      "C:\\Users\\TOILET4\\Anaconda3\\lib\\site-packages\\IPython\\core\\interactiveshell.py:2785: DtypeWarning:\n",
      "\n",
      "Columns (5) have mixed types. Specify dtype option on import or set low_memory=False.\n",
      "\n"
     ]
    },
    {
     "data": {
      "text/html": [
       "<div>\n",
       "<style scoped>\n",
       "    .dataframe tbody tr th:only-of-type {\n",
       "        vertical-align: middle;\n",
       "    }\n",
       "\n",
       "    .dataframe tbody tr th {\n",
       "        vertical-align: top;\n",
       "    }\n",
       "\n",
       "    .dataframe thead th {\n",
       "        text-align: right;\n",
       "    }\n",
       "</style>\n",
       "<table border=\"1\" class=\"dataframe\">\n",
       "  <thead>\n",
       "    <tr style=\"text-align: right;\">\n",
       "      <th></th>\n",
       "      <th>YEAR_NUM</th>\n",
       "      <th>MNTH</th>\n",
       "      <th>PROGRAM_NM</th>\n",
       "      <th>OFFICE</th>\n",
       "      <th>FAMILY_TYP_NM</th>\n",
       "      <th>FAMILY_SIZE</th>\n",
       "      <th>AGE</th>\n",
       "      <th>EDUCATION_LEVEL</th>\n",
       "      <th>EARNINGS</th>\n",
       "      <th>IMMIGRATION_STATUS</th>\n",
       "      <th>...</th>\n",
       "      <th>MONTHS_ON_ASSISTANCE</th>\n",
       "      <th>MONTHS_OFF_ASSISTANCE</th>\n",
       "      <th>GENDER</th>\n",
       "      <th>SHELTER_COSTS</th>\n",
       "      <th>YOUNGEST_DEP_AGE_RANGE</th>\n",
       "      <th>WARD_SCODE</th>\n",
       "      <th>CENSUS_NEIGH_SCODE</th>\n",
       "      <th>NEW_CASES</th>\n",
       "      <th>EXITS</th>\n",
       "      <th>CASES</th>\n",
       "    </tr>\n",
       "  </thead>\n",
       "  <tbody>\n",
       "    <tr>\n",
       "      <th>0</th>\n",
       "      <td>2004</td>\n",
       "      <td>20040101</td>\n",
       "      <td>Ontario Works</td>\n",
       "      <td>Application Centre</td>\n",
       "      <td>Families</td>\n",
       "      <td>2</td>\n",
       "      <td>18 to 29 yrs old</td>\n",
       "      <td>High School Incomplete</td>\n",
       "      <td>NaN</td>\n",
       "      <td>Permanent Resident</td>\n",
       "      <td>...</td>\n",
       "      <td>1 to 6 months</td>\n",
       "      <td>1 to 6 months</td>\n",
       "      <td>F</td>\n",
       "      <td>$600 to $999</td>\n",
       "      <td>less than 5 yrs old</td>\n",
       "      <td>2.0</td>\n",
       "      <td>4.0</td>\n",
       "      <td>0</td>\n",
       "      <td>1</td>\n",
       "      <td>1</td>\n",
       "    </tr>\n",
       "    <tr>\n",
       "      <th>1</th>\n",
       "      <td>2004</td>\n",
       "      <td>20040101</td>\n",
       "      <td>Ontario Works</td>\n",
       "      <td>Application Centre</td>\n",
       "      <td>Families</td>\n",
       "      <td>2</td>\n",
       "      <td>18 to 29 yrs old</td>\n",
       "      <td>High School Incomplete</td>\n",
       "      <td>NaN</td>\n",
       "      <td>Permanent Resident</td>\n",
       "      <td>...</td>\n",
       "      <td>1 to 6 months</td>\n",
       "      <td>1 to 6 months</td>\n",
       "      <td>F</td>\n",
       "      <td>$400 to $599</td>\n",
       "      <td>less than 5 yrs old</td>\n",
       "      <td>2.0</td>\n",
       "      <td>4.0</td>\n",
       "      <td>0</td>\n",
       "      <td>0</td>\n",
       "      <td>1</td>\n",
       "    </tr>\n",
       "    <tr>\n",
       "      <th>2</th>\n",
       "      <td>2004</td>\n",
       "      <td>20040101</td>\n",
       "      <td>Ontario Works</td>\n",
       "      <td>Application Centre</td>\n",
       "      <td>Families</td>\n",
       "      <td>2</td>\n",
       "      <td>18 to 29 yrs old</td>\n",
       "      <td>Post Secondary</td>\n",
       "      <td>NaN</td>\n",
       "      <td>Canadian Citizen</td>\n",
       "      <td>...</td>\n",
       "      <td>1 to 6 months</td>\n",
       "      <td>1 to 6 months</td>\n",
       "      <td>F</td>\n",
       "      <td>$200 to $399</td>\n",
       "      <td>less than 5 yrs old</td>\n",
       "      <td>8.0</td>\n",
       "      <td>24.0</td>\n",
       "      <td>0</td>\n",
       "      <td>0</td>\n",
       "      <td>1</td>\n",
       "    </tr>\n",
       "    <tr>\n",
       "      <th>3</th>\n",
       "      <td>2004</td>\n",
       "      <td>20040101</td>\n",
       "      <td>Ontario Works</td>\n",
       "      <td>Application Centre</td>\n",
       "      <td>Families</td>\n",
       "      <td>2</td>\n",
       "      <td>30 to 39 yrs old</td>\n",
       "      <td>High School Complete</td>\n",
       "      <td>Earnings from employment</td>\n",
       "      <td>Canadian Citizen</td>\n",
       "      <td>...</td>\n",
       "      <td>1 to 6 months</td>\n",
       "      <td>7 to 24 months</td>\n",
       "      <td>F</td>\n",
       "      <td>$400 to $599</td>\n",
       "      <td>5 to 10 yrs old</td>\n",
       "      <td>8.0</td>\n",
       "      <td>27.0</td>\n",
       "      <td>0</td>\n",
       "      <td>0</td>\n",
       "      <td>1</td>\n",
       "    </tr>\n",
       "    <tr>\n",
       "      <th>4</th>\n",
       "      <td>2004</td>\n",
       "      <td>20040101</td>\n",
       "      <td>Ontario Works</td>\n",
       "      <td>Application Centre</td>\n",
       "      <td>Families</td>\n",
       "      <td>2</td>\n",
       "      <td>30 to 39 yrs old</td>\n",
       "      <td>High School Incomplete</td>\n",
       "      <td>NaN</td>\n",
       "      <td>Canadian Citizen</td>\n",
       "      <td>...</td>\n",
       "      <td>1 to 6 months</td>\n",
       "      <td>1 to 6 months</td>\n",
       "      <td>F</td>\n",
       "      <td>$200 to $399</td>\n",
       "      <td>11 to 15 yrs old</td>\n",
       "      <td>6.0</td>\n",
       "      <td>19.0</td>\n",
       "      <td>0</td>\n",
       "      <td>1</td>\n",
       "      <td>1</td>\n",
       "    </tr>\n",
       "  </tbody>\n",
       "</table>\n",
       "<p>5 rows × 21 columns</p>\n",
       "</div>"
      ],
      "text/plain": [
       "   YEAR_NUM      MNTH     PROGRAM_NM              OFFICE FAMILY_TYP_NM  \\\n",
       "0      2004  20040101  Ontario Works  Application Centre      Families   \n",
       "1      2004  20040101  Ontario Works  Application Centre      Families   \n",
       "2      2004  20040101  Ontario Works  Application Centre      Families   \n",
       "3      2004  20040101  Ontario Works  Application Centre      Families   \n",
       "4      2004  20040101  Ontario Works  Application Centre      Families   \n",
       "\n",
       "  FAMILY_SIZE               AGE         EDUCATION_LEVEL  \\\n",
       "0           2  18 to 29 yrs old  High School Incomplete   \n",
       "1           2  18 to 29 yrs old  High School Incomplete   \n",
       "2           2  18 to 29 yrs old          Post Secondary   \n",
       "3           2  30 to 39 yrs old    High School Complete   \n",
       "4           2  30 to 39 yrs old  High School Incomplete   \n",
       "\n",
       "                   EARNINGS  IMMIGRATION_STATUS  \\\n",
       "0                       NaN  Permanent Resident   \n",
       "1                       NaN  Permanent Resident   \n",
       "2                       NaN    Canadian Citizen   \n",
       "3  Earnings from employment    Canadian Citizen   \n",
       "4                       NaN    Canadian Citizen   \n",
       "\n",
       "                     ...                     MONTHS_ON_ASSISTANCE  \\\n",
       "0                    ...                            1 to 6 months   \n",
       "1                    ...                            1 to 6 months   \n",
       "2                    ...                            1 to 6 months   \n",
       "3                    ...                            1 to 6 months   \n",
       "4                    ...                            1 to 6 months   \n",
       "\n",
       "  MONTHS_OFF_ASSISTANCE GENDER SHELTER_COSTS YOUNGEST_DEP_AGE_RANGE  \\\n",
       "0         1 to 6 months      F  $600 to $999    less than 5 yrs old   \n",
       "1         1 to 6 months      F  $400 to $599    less than 5 yrs old   \n",
       "2         1 to 6 months      F  $200 to $399    less than 5 yrs old   \n",
       "3        7 to 24 months      F  $400 to $599        5 to 10 yrs old   \n",
       "4         1 to 6 months      F  $200 to $399       11 to 15 yrs old   \n",
       "\n",
       "  WARD_SCODE  CENSUS_NEIGH_SCODE  NEW_CASES  EXITS  \\\n",
       "0        2.0                 4.0          0      1   \n",
       "1        2.0                 4.0          0      0   \n",
       "2        8.0                24.0          0      0   \n",
       "3        8.0                27.0          0      0   \n",
       "4        6.0                19.0          0      1   \n",
       "\n",
       "   CASES                                      \n",
       "0                                          1  \n",
       "1                                          1  \n",
       "2                                          1  \n",
       "3                                          1  \n",
       "4                                          1  \n",
       "\n",
       "[5 rows x 21 columns]"
      ]
     },
     "execution_count": 2,
     "metadata": {},
     "output_type": "execute_result"
    }
   ],
   "source": [
    "import pandas as pd\n",
    "from pandas import ExcelWriter\n",
    "from pandas import ExcelFile\n",
    " \n",
    "df = pd.read_csv('C:\\\\Users\\\\kasra\\\\Desktop\\\\Machine Learning\\\\Project\\\\opendata_tess_ow.csv')\n",
    " \n",
    "\n",
    "\n",
    "df.head()"
   ]
  },
  {
   "cell_type": "code",
   "execution_count": 3,
   "metadata": {
    "collapsed": true
   },
   "outputs": [],
   "source": [
    "df_1=df.replace({'MONTHS_ON_ASSISTANCE':{'7 to 12 months': 9, '1 to 6 months':4, '13 to 24 months':19,\n",
    "                                           '25 to 60 months':43,'61 to 120 months':91, 'over 120 months':140}, \n",
    "                 'AGE':{'50 to 64 yrs old': 58, '30 to 39 yrs old':35, '16 to 17 yrs old':17,\n",
    "                                           '18 to 29 yrs old':25,'40 to 49 yrs old':45, \n",
    "                        '65+ yrs old':70,'Less than 16 yrs old':14},\n",
    "                'SHELTER_COSTS':{'$600 to $999':800, '$400 to $599':500, '$200 to $399':300, 'Under $200':100, '$1000 to $1399':1200, \n",
    "'No shelter costs':0, '$1400 to $1799':1600, 'over $1800':2000},'FAMILY_SIZE':{'1':1,'2':2,'3':3,'4':4,'4+':5},'TIMES_ON_ASSISTANCE':{'0': 0, '1':1,'2':2,'3':3,'4+':4}, \n",
    "               'YOUNGEST_DEP_AGE_RANGE': {'No children': 0,'less than 5 yrs old':1 , '5 to 10 yrs old': 1, '11 to 15 yrs old': 1, '16+ yrs old': 1 } })"
   ]
  },
  {
   "cell_type": "code",
   "execution_count": 4,
   "metadata": {
    "collapsed": true
   },
   "outputs": [],
   "source": [
    "Data_2014=df_1[df_1['YEAR_NUM']== 2014]\n",
    "Data_2014=Data_2014.drop(Data_2014.loc[Data_2014['GENDER']=='U'].index)\n",
    "Data_2014=Data_2014.drop(Data_2014.loc[Data_2014['EDUCATION_LEVEL']=='Unknown'].index)"
   ]
  },
  {
   "cell_type": "code",
   "execution_count": 5,
   "metadata": {
    "collapsed": true
   },
   "outputs": [],
   "source": [
    "Data=Data_2014.drop(['YEAR_NUM','MNTH', 'OFFICE', 'PROGRAM_NM', 'NEW_CASES', 'EXITS', 'EARNINGS', 'CENSUS_NEIGH_SCODE', 'MONTHS_OFF_ASSISTANCE','WARD_SCODE', 'CASES                                    '] , axis = 1)"
   ]
  },
  {
   "cell_type": "code",
   "execution_count": 6,
   "metadata": {},
   "outputs": [
    {
     "data": {
      "text/plain": [
       "Index(['FAMILY_TYP_NM', 'FAMILY_SIZE', 'AGE', 'EDUCATION_LEVEL',\n",
       "       'IMMIGRATION_STATUS', 'TIMES_ON_ASSISTANCE', 'MONTHS_ON_ASSISTANCE',\n",
       "       'GENDER', 'SHELTER_COSTS', 'YOUNGEST_DEP_AGE_RANGE'],\n",
       "      dtype='object')"
      ]
     },
     "execution_count": 6,
     "metadata": {},
     "output_type": "execute_result"
    }
   ],
   "source": [
    "Data.columns"
   ]
  },
  {
   "cell_type": "code",
   "execution_count": 7,
   "metadata": {},
   "outputs": [
    {
     "data": {
      "text/html": [
       "<div>\n",
       "<style scoped>\n",
       "    .dataframe tbody tr th:only-of-type {\n",
       "        vertical-align: middle;\n",
       "    }\n",
       "\n",
       "    .dataframe tbody tr th {\n",
       "        vertical-align: top;\n",
       "    }\n",
       "\n",
       "    .dataframe thead th {\n",
       "        text-align: right;\n",
       "    }\n",
       "</style>\n",
       "<table border=\"1\" class=\"dataframe\">\n",
       "  <thead>\n",
       "    <tr style=\"text-align: right;\">\n",
       "      <th></th>\n",
       "      <th>FAMILY_SIZE</th>\n",
       "      <th>AGE</th>\n",
       "      <th>TIMES_ON_ASSISTANCE</th>\n",
       "      <th>MONTHS_ON_ASSISTANCE</th>\n",
       "      <th>SHELTER_COSTS</th>\n",
       "    </tr>\n",
       "    <tr>\n",
       "      <th>YOUNGEST_DEP_AGE_RANGE</th>\n",
       "      <th></th>\n",
       "      <th></th>\n",
       "      <th></th>\n",
       "      <th></th>\n",
       "      <th></th>\n",
       "    </tr>\n",
       "  </thead>\n",
       "  <tbody>\n",
       "    <tr>\n",
       "      <th>0</th>\n",
       "      <td>1.041268</td>\n",
       "      <td>40.825378</td>\n",
       "      <td>2.662563</td>\n",
       "      <td>35.082078</td>\n",
       "      <td>403.432593</td>\n",
       "    </tr>\n",
       "    <tr>\n",
       "      <th>1</th>\n",
       "      <td>2.969085</td>\n",
       "      <td>38.566016</td>\n",
       "      <td>2.576244</td>\n",
       "      <td>53.407422</td>\n",
       "      <td>737.162575</td>\n",
       "    </tr>\n",
       "  </tbody>\n",
       "</table>\n",
       "</div>"
      ],
      "text/plain": [
       "                        FAMILY_SIZE        AGE  TIMES_ON_ASSISTANCE  \\\n",
       "YOUNGEST_DEP_AGE_RANGE                                                \n",
       "0                          1.041268  40.825378             2.662563   \n",
       "1                          2.969085  38.566016             2.576244   \n",
       "\n",
       "                        MONTHS_ON_ASSISTANCE  SHELTER_COSTS  \n",
       "YOUNGEST_DEP_AGE_RANGE                                       \n",
       "0                                  35.082078     403.432593  \n",
       "1                                  53.407422     737.162575  "
      ]
     },
     "execution_count": 7,
     "metadata": {},
     "output_type": "execute_result"
    }
   ],
   "source": [
    "Data.groupby(['YOUNGEST_DEP_AGE_RANGE']).mean()"
   ]
  },
  {
   "cell_type": "code",
   "execution_count": 8,
   "metadata": {},
   "outputs": [
    {
     "data": {
      "text/html": [
       "<div>\n",
       "<style scoped>\n",
       "    .dataframe tbody tr th:only-of-type {\n",
       "        vertical-align: middle;\n",
       "    }\n",
       "\n",
       "    .dataframe tbody tr th {\n",
       "        vertical-align: top;\n",
       "    }\n",
       "\n",
       "    .dataframe thead th {\n",
       "        text-align: right;\n",
       "    }\n",
       "</style>\n",
       "<table border=\"1\" class=\"dataframe\">\n",
       "  <thead>\n",
       "    <tr style=\"text-align: right;\">\n",
       "      <th></th>\n",
       "      <th>FAMILY_SIZE</th>\n",
       "      <th>AGE</th>\n",
       "      <th>MONTHS_ON_ASSISTANCE</th>\n",
       "      <th>SHELTER_COSTS</th>\n",
       "      <th>YOUNGEST_DEP_AGE_RANGE</th>\n",
       "    </tr>\n",
       "    <tr>\n",
       "      <th>TIMES_ON_ASSISTANCE</th>\n",
       "      <th></th>\n",
       "      <th></th>\n",
       "      <th></th>\n",
       "      <th></th>\n",
       "      <th></th>\n",
       "    </tr>\n",
       "  </thead>\n",
       "  <tbody>\n",
       "    <tr>\n",
       "      <th>1</th>\n",
       "      <td>1.818574</td>\n",
       "      <td>40.321710</td>\n",
       "      <td>43.112724</td>\n",
       "      <td>559.484048</td>\n",
       "      <td>0.401153</td>\n",
       "    </tr>\n",
       "    <tr>\n",
       "      <th>2</th>\n",
       "      <td>1.765520</td>\n",
       "      <td>39.782345</td>\n",
       "      <td>43.135557</td>\n",
       "      <td>517.890449</td>\n",
       "      <td>0.391118</td>\n",
       "    </tr>\n",
       "    <tr>\n",
       "      <th>3</th>\n",
       "      <td>1.727727</td>\n",
       "      <td>39.066233</td>\n",
       "      <td>41.038703</td>\n",
       "      <td>485.715155</td>\n",
       "      <td>0.377112</td>\n",
       "    </tr>\n",
       "    <tr>\n",
       "      <th>4</th>\n",
       "      <td>1.764746</td>\n",
       "      <td>39.995680</td>\n",
       "      <td>41.141476</td>\n",
       "      <td>526.480329</td>\n",
       "      <td>0.365142</td>\n",
       "    </tr>\n",
       "  </tbody>\n",
       "</table>\n",
       "</div>"
      ],
      "text/plain": [
       "                     FAMILY_SIZE        AGE  MONTHS_ON_ASSISTANCE  \\\n",
       "TIMES_ON_ASSISTANCE                                                 \n",
       "1                       1.818574  40.321710             43.112724   \n",
       "2                       1.765520  39.782345             43.135557   \n",
       "3                       1.727727  39.066233             41.038703   \n",
       "4                       1.764746  39.995680             41.141476   \n",
       "\n",
       "                     SHELTER_COSTS  YOUNGEST_DEP_AGE_RANGE  \n",
       "TIMES_ON_ASSISTANCE                                         \n",
       "1                       559.484048                0.401153  \n",
       "2                       517.890449                0.391118  \n",
       "3                       485.715155                0.377112  \n",
       "4                       526.480329                0.365142  "
      ]
     },
     "execution_count": 8,
     "metadata": {},
     "output_type": "execute_result"
    }
   ],
   "source": [
    "Data.groupby(['TIMES_ON_ASSISTANCE']).mean()"
   ]
  },
  {
   "cell_type": "code",
   "execution_count": 9,
   "metadata": {
    "collapsed": true
   },
   "outputs": [],
   "source": [
    "Num=Data[['FAMILY_SIZE','AGE','SHELTER_COSTS','TIMES_ON_ASSISTANCE','MONTHS_ON_ASSISTANCE']].copy()"
   ]
  },
  {
   "cell_type": "code",
   "execution_count": 10,
   "metadata": {
    "collapsed": true
   },
   "outputs": [],
   "source": [
    "Cat=Data.drop(['FAMILY_SIZE','AGE','SHELTER_COSTS','TIMES_ON_ASSISTANCE','MONTHS_ON_ASSISTANCE'], axis = 1)"
   ]
  },
  {
   "cell_type": "code",
   "execution_count": 11,
   "metadata": {},
   "outputs": [
    {
     "data": {
      "text/html": [
       "<div>\n",
       "<style scoped>\n",
       "    .dataframe tbody tr th:only-of-type {\n",
       "        vertical-align: middle;\n",
       "    }\n",
       "\n",
       "    .dataframe tbody tr th {\n",
       "        vertical-align: top;\n",
       "    }\n",
       "\n",
       "    .dataframe thead th {\n",
       "        text-align: right;\n",
       "    }\n",
       "</style>\n",
       "<table border=\"1\" class=\"dataframe\">\n",
       "  <thead>\n",
       "    <tr style=\"text-align: right;\">\n",
       "      <th></th>\n",
       "      <th>YOUNGEST_DEP_AGE_RANGE</th>\n",
       "    </tr>\n",
       "  </thead>\n",
       "  <tbody>\n",
       "    <tr>\n",
       "      <th>count</th>\n",
       "      <td>793322.000000</td>\n",
       "    </tr>\n",
       "    <tr>\n",
       "      <th>mean</th>\n",
       "      <td>0.381929</td>\n",
       "    </tr>\n",
       "    <tr>\n",
       "      <th>std</th>\n",
       "      <td>0.485860</td>\n",
       "    </tr>\n",
       "    <tr>\n",
       "      <th>min</th>\n",
       "      <td>0.000000</td>\n",
       "    </tr>\n",
       "    <tr>\n",
       "      <th>25%</th>\n",
       "      <td>0.000000</td>\n",
       "    </tr>\n",
       "    <tr>\n",
       "      <th>50%</th>\n",
       "      <td>0.000000</td>\n",
       "    </tr>\n",
       "    <tr>\n",
       "      <th>75%</th>\n",
       "      <td>1.000000</td>\n",
       "    </tr>\n",
       "    <tr>\n",
       "      <th>max</th>\n",
       "      <td>1.000000</td>\n",
       "    </tr>\n",
       "  </tbody>\n",
       "</table>\n",
       "</div>"
      ],
      "text/plain": [
       "       YOUNGEST_DEP_AGE_RANGE\n",
       "count           793322.000000\n",
       "mean                 0.381929\n",
       "std                  0.485860\n",
       "min                  0.000000\n",
       "25%                  0.000000\n",
       "50%                  0.000000\n",
       "75%                  1.000000\n",
       "max                  1.000000"
      ]
     },
     "execution_count": 11,
     "metadata": {},
     "output_type": "execute_result"
    }
   ],
   "source": [
    "Cat.describe()"
   ]
  },
  {
   "cell_type": "code",
   "execution_count": 12,
   "metadata": {},
   "outputs": [
    {
     "data": {
      "text/html": [
       "<div>\n",
       "<style scoped>\n",
       "    .dataframe tbody tr th:only-of-type {\n",
       "        vertical-align: middle;\n",
       "    }\n",
       "\n",
       "    .dataframe tbody tr th {\n",
       "        vertical-align: top;\n",
       "    }\n",
       "\n",
       "    .dataframe thead th {\n",
       "        text-align: right;\n",
       "    }\n",
       "</style>\n",
       "<table border=\"1\" class=\"dataframe\">\n",
       "  <thead>\n",
       "    <tr style=\"text-align: right;\">\n",
       "      <th></th>\n",
       "      <th>FAMILY_TYP_NM</th>\n",
       "      <th>EDUCATION_LEVEL</th>\n",
       "      <th>IMMIGRATION_STATUS</th>\n",
       "      <th>GENDER</th>\n",
       "      <th>YOUNGEST_DEP_AGE_RANGE</th>\n",
       "    </tr>\n",
       "  </thead>\n",
       "  <tbody>\n",
       "    <tr>\n",
       "      <th>8730917</th>\n",
       "      <td>Families</td>\n",
       "      <td>High School Incomplete</td>\n",
       "      <td>Permanent Resident</td>\n",
       "      <td>F</td>\n",
       "      <td>0</td>\n",
       "    </tr>\n",
       "    <tr>\n",
       "      <th>8730918</th>\n",
       "      <td>Families</td>\n",
       "      <td>High School Complete</td>\n",
       "      <td>Canadian Citizen</td>\n",
       "      <td>F</td>\n",
       "      <td>1</td>\n",
       "    </tr>\n",
       "    <tr>\n",
       "      <th>8730919</th>\n",
       "      <td>Families</td>\n",
       "      <td>High School Complete</td>\n",
       "      <td>Canadian Citizen</td>\n",
       "      <td>F</td>\n",
       "      <td>0</td>\n",
       "    </tr>\n",
       "    <tr>\n",
       "      <th>8730920</th>\n",
       "      <td>Families</td>\n",
       "      <td>High School Complete</td>\n",
       "      <td>Canadian Citizen</td>\n",
       "      <td>F</td>\n",
       "      <td>0</td>\n",
       "    </tr>\n",
       "    <tr>\n",
       "      <th>8730921</th>\n",
       "      <td>Families</td>\n",
       "      <td>High School Complete</td>\n",
       "      <td>Canadian Citizen</td>\n",
       "      <td>F</td>\n",
       "      <td>1</td>\n",
       "    </tr>\n",
       "    <tr>\n",
       "      <th>8730922</th>\n",
       "      <td>Families</td>\n",
       "      <td>High School Complete</td>\n",
       "      <td>Canadian Citizen</td>\n",
       "      <td>F</td>\n",
       "      <td>1</td>\n",
       "    </tr>\n",
       "    <tr>\n",
       "      <th>8730923</th>\n",
       "      <td>Families</td>\n",
       "      <td>High School Complete</td>\n",
       "      <td>Canadian Citizen</td>\n",
       "      <td>M</td>\n",
       "      <td>0</td>\n",
       "    </tr>\n",
       "    <tr>\n",
       "      <th>8730924</th>\n",
       "      <td>Families</td>\n",
       "      <td>High School Complete</td>\n",
       "      <td>Canadian Citizen</td>\n",
       "      <td>M</td>\n",
       "      <td>0</td>\n",
       "    </tr>\n",
       "    <tr>\n",
       "      <th>8730925</th>\n",
       "      <td>Families</td>\n",
       "      <td>High School Complete</td>\n",
       "      <td>Canadian Citizen</td>\n",
       "      <td>M</td>\n",
       "      <td>0</td>\n",
       "    </tr>\n",
       "    <tr>\n",
       "      <th>8730926</th>\n",
       "      <td>Families</td>\n",
       "      <td>High School Complete</td>\n",
       "      <td>Canadian Citizen</td>\n",
       "      <td>M</td>\n",
       "      <td>1</td>\n",
       "    </tr>\n",
       "  </tbody>\n",
       "</table>\n",
       "</div>"
      ],
      "text/plain": [
       "        FAMILY_TYP_NM         EDUCATION_LEVEL  IMMIGRATION_STATUS GENDER  \\\n",
       "8730917      Families  High School Incomplete  Permanent Resident      F   \n",
       "8730918      Families    High School Complete    Canadian Citizen      F   \n",
       "8730919      Families    High School Complete    Canadian Citizen      F   \n",
       "8730920      Families    High School Complete    Canadian Citizen      F   \n",
       "8730921      Families    High School Complete    Canadian Citizen      F   \n",
       "8730922      Families    High School Complete    Canadian Citizen      F   \n",
       "8730923      Families    High School Complete    Canadian Citizen      M   \n",
       "8730924      Families    High School Complete    Canadian Citizen      M   \n",
       "8730925      Families    High School Complete    Canadian Citizen      M   \n",
       "8730926      Families    High School Complete    Canadian Citizen      M   \n",
       "\n",
       "         YOUNGEST_DEP_AGE_RANGE  \n",
       "8730917                       0  \n",
       "8730918                       1  \n",
       "8730919                       0  \n",
       "8730920                       0  \n",
       "8730921                       1  \n",
       "8730922                       1  \n",
       "8730923                       0  \n",
       "8730924                       0  \n",
       "8730925                       0  \n",
       "8730926                       1  "
      ]
     },
     "execution_count": 12,
     "metadata": {},
     "output_type": "execute_result"
    }
   ],
   "source": [
    "Cat.head(10)"
   ]
  },
  {
   "cell_type": "code",
   "execution_count": 13,
   "metadata": {},
   "outputs": [
    {
     "data": {
      "text/html": [
       "<div>\n",
       "<style scoped>\n",
       "    .dataframe tbody tr th:only-of-type {\n",
       "        vertical-align: middle;\n",
       "    }\n",
       "\n",
       "    .dataframe tbody tr th {\n",
       "        vertical-align: top;\n",
       "    }\n",
       "\n",
       "    .dataframe thead th {\n",
       "        text-align: right;\n",
       "    }\n",
       "</style>\n",
       "<table border=\"1\" class=\"dataframe\">\n",
       "  <thead>\n",
       "    <tr style=\"text-align: right;\">\n",
       "      <th></th>\n",
       "      <th>FAMILY_SIZE</th>\n",
       "      <th>AGE</th>\n",
       "      <th>SHELTER_COSTS</th>\n",
       "      <th>TIMES_ON_ASSISTANCE</th>\n",
       "      <th>MONTHS_ON_ASSISTANCE</th>\n",
       "    </tr>\n",
       "  </thead>\n",
       "  <tbody>\n",
       "    <tr>\n",
       "      <th>count</th>\n",
       "      <td>793322.000000</td>\n",
       "      <td>793322.000000</td>\n",
       "      <td>793322.000000</td>\n",
       "      <td>793322.000000</td>\n",
       "      <td>793322.000000</td>\n",
       "    </tr>\n",
       "    <tr>\n",
       "      <th>mean</th>\n",
       "      <td>1.777558</td>\n",
       "      <td>39.962462</td>\n",
       "      <td>530.893887</td>\n",
       "      <td>2.629596</td>\n",
       "      <td>42.081065</td>\n",
       "    </tr>\n",
       "    <tr>\n",
       "      <th>std</th>\n",
       "      <td>1.185309</td>\n",
       "      <td>12.480357</td>\n",
       "      <td>362.333173</td>\n",
       "      <td>1.295955</td>\n",
       "      <td>40.314329</td>\n",
       "    </tr>\n",
       "    <tr>\n",
       "      <th>min</th>\n",
       "      <td>1.000000</td>\n",
       "      <td>14.000000</td>\n",
       "      <td>0.000000</td>\n",
       "      <td>1.000000</td>\n",
       "      <td>4.000000</td>\n",
       "    </tr>\n",
       "    <tr>\n",
       "      <th>25%</th>\n",
       "      <td>1.000000</td>\n",
       "      <td>25.000000</td>\n",
       "      <td>300.000000</td>\n",
       "      <td>1.000000</td>\n",
       "      <td>9.000000</td>\n",
       "    </tr>\n",
       "    <tr>\n",
       "      <th>50%</th>\n",
       "      <td>1.000000</td>\n",
       "      <td>35.000000</td>\n",
       "      <td>500.000000</td>\n",
       "      <td>3.000000</td>\n",
       "      <td>19.000000</td>\n",
       "    </tr>\n",
       "    <tr>\n",
       "      <th>75%</th>\n",
       "      <td>2.000000</td>\n",
       "      <td>45.000000</td>\n",
       "      <td>800.000000</td>\n",
       "      <td>4.000000</td>\n",
       "      <td>91.000000</td>\n",
       "    </tr>\n",
       "    <tr>\n",
       "      <th>max</th>\n",
       "      <td>5.000000</td>\n",
       "      <td>70.000000</td>\n",
       "      <td>2000.000000</td>\n",
       "      <td>4.000000</td>\n",
       "      <td>140.000000</td>\n",
       "    </tr>\n",
       "  </tbody>\n",
       "</table>\n",
       "</div>"
      ],
      "text/plain": [
       "         FAMILY_SIZE            AGE  SHELTER_COSTS  TIMES_ON_ASSISTANCE  \\\n",
       "count  793322.000000  793322.000000  793322.000000        793322.000000   \n",
       "mean        1.777558      39.962462     530.893887             2.629596   \n",
       "std         1.185309      12.480357     362.333173             1.295955   \n",
       "min         1.000000      14.000000       0.000000             1.000000   \n",
       "25%         1.000000      25.000000     300.000000             1.000000   \n",
       "50%         1.000000      35.000000     500.000000             3.000000   \n",
       "75%         2.000000      45.000000     800.000000             4.000000   \n",
       "max         5.000000      70.000000    2000.000000             4.000000   \n",
       "\n",
       "       MONTHS_ON_ASSISTANCE  \n",
       "count         793322.000000  \n",
       "mean              42.081065  \n",
       "std               40.314329  \n",
       "min                4.000000  \n",
       "25%                9.000000  \n",
       "50%               19.000000  \n",
       "75%               91.000000  \n",
       "max              140.000000  "
      ]
     },
     "execution_count": 13,
     "metadata": {},
     "output_type": "execute_result"
    }
   ],
   "source": [
    "Num.describe()"
   ]
  },
  {
   "cell_type": "code",
   "execution_count": 14,
   "metadata": {
    "collapsed": true
   },
   "outputs": [],
   "source": [
    "corr_matrix = Num.corr()"
   ]
  },
  {
   "cell_type": "code",
   "execution_count": 15,
   "metadata": {},
   "outputs": [
    {
     "data": {
      "text/plain": [
       "MONTHS_ON_ASSISTANCE    1.000000\n",
       "FAMILY_SIZE             0.184114\n",
       "AGE                     0.163009\n",
       "SHELTER_COSTS           0.021614\n",
       "TIMES_ON_ASSISTANCE    -0.023100\n",
       "Name: MONTHS_ON_ASSISTANCE, dtype: float64"
      ]
     },
     "execution_count": 15,
     "metadata": {},
     "output_type": "execute_result"
    }
   ],
   "source": [
    "corr_matrix[\"MONTHS_ON_ASSISTANCE\"].sort_values(ascending=False)"
   ]
  },
  {
   "cell_type": "code",
   "execution_count": 15,
   "metadata": {},
   "outputs": [
    {
     "data": {
      "image/png": "[encoded data removed]",
      "text/plain": [
       "<Figure size 864x576 with 16 Axes>"
      ]
     },
     "metadata": {
      "needs_background": "light"
     },
     "output_type": "display_data"
    }
   ],
   "source": [
    "# from pandas.tools.plotting import scatter_matrix # For older versions of Pandas\n",
    "from pandas.plotting import scatter_matrix\n",
    "\n",
    "attributes = [\"MONTHS_ON_ASSISTANCE\", \"FAMILY_SIZE\", \"AGE\",\n",
    "              \"SHELTER_COSTS\"]\n",
    "scatter_matrix(Num[attributes], figsize=(12, 8))\n",
    "plt.savefig(\"scatter_matrix_plot\")"
   ]
  },
  {
   "cell_type": "code",
   "execution_count": 16,
   "metadata": {
    "collapsed": true
   },
   "outputs": [],
   "source": [
    "from sklearn.model_selection import train_test_split\n",
    "\n",
    "train_set, test_set = train_test_split(Data, test_size=0.2, random_state=42)"
   ]
  },
  {
   "cell_type": "code",
   "execution_count": 17,
   "metadata": {},
   "outputs": [
    {
     "data": {
      "text/plain": [
       "(158665, 10)"
      ]
     },
     "execution_count": 17,
     "metadata": {},
     "output_type": "execute_result"
    }
   ],
   "source": [
    "test_set.shape"
   ]
  },
  {
   "cell_type": "code",
   "execution_count": 18,
   "metadata": {
    "scrolled": true
   },
   "outputs": [
    {
     "data": {
      "text/plain": [
       "(634657, 10)"
      ]
     },
     "execution_count": 18,
     "metadata": {},
     "output_type": "execute_result"
    }
   ],
   "source": [
    "train_set.shape"
   ]
  },
  {
   "cell_type": "markdown",
   "metadata": {},
   "source": [
    "### Prepare data for Machine Learning algorithms"
   ]
  },
  {
   "cell_type": "code",
   "execution_count": 19,
   "metadata": {
    "collapsed": true
   },
   "outputs": [],
   "source": [
    "data = train_set.drop(\"TIMES_ON_ASSISTANCE\", axis=1) # drop labels for training set\n",
    "Target = train_set[\"TIMES_ON_ASSISTANCE\"].copy()"
   ]
  },
  {
   "cell_type": "code",
   "execution_count": 20,
   "metadata": {
    "collapsed": true
   },
   "outputs": [],
   "source": [
    "data_num=data[['FAMILY_SIZE','AGE','SHELTER_COSTS','MONTHS_ON_ASSISTANCE']].copy()\n",
    "data_cat=data.drop(['FAMILY_SIZE','AGE','SHELTER_COSTS','MONTHS_ON_ASSISTANCE'], axis = 1)"
   ]
  },
  {
   "cell_type": "code",
   "execution_count": 21,
   "metadata": {},
   "outputs": [
    {
     "data": {
      "text/plain": [
       "array([[0., 1., 0., ..., 0., 1., 0.],\n",
       "       [0., 1., 0., ..., 1., 1., 0.],\n",
       "       [0., 1., 1., ..., 1., 1., 0.],\n",
       "       ...,\n",
       "       [1., 0., 1., ..., 1., 0., 1.],\n",
       "       [1., 0., 0., ..., 0., 0., 1.],\n",
       "       [1., 0., 0., ..., 0., 0., 1.]])"
      ]
     },
     "execution_count": 21,
     "metadata": {},
     "output_type": "execute_result"
    }
   ],
   "source": [
    "from future_encoders import OneHotEncoder\n",
    "cat_encoder = OneHotEncoder(sparse=False)\n",
    "Data_cat_1hot = cat_encoder.fit_transform(data_cat)\n",
    "Data_cat_1hot"
   ]
  },
  {
   "cell_type": "code",
   "execution_count": 22,
   "metadata": {
    "collapsed": true
   },
   "outputs": [],
   "source": [
    "num_attribs = list(data_num)\n",
    "cat_attribs = list(data_cat)"
   ]
  },
  {
   "cell_type": "code",
   "execution_count": 23,
   "metadata": {},
   "outputs": [
    {
     "data": {
      "text/plain": [
       "(634657, 19)"
      ]
     },
     "execution_count": 23,
     "metadata": {},
     "output_type": "execute_result"
    }
   ],
   "source": [
    "from sklearn.pipeline import Pipeline\n",
    "from future_encoders import ColumnTransformer\n",
    "from sklearn.preprocessing import StandardScaler\n",
    "from future_encoders import OneHotEncoder\n",
    "\n",
    "full_pipeline = ColumnTransformer([\n",
    "        (\"num\", StandardScaler(), num_attribs),\n",
    "        (\"cat\", OneHotEncoder(), cat_attribs),\n",
    "    ])\n",
    "\n",
    "data_prepared = full_pipeline.fit_transform(data)\n",
    "data_prepared.shape\n"
   ]
  },
  {
   "cell_type": "code",
   "execution_count": 24,
   "metadata": {},
   "outputs": [
    {
     "data": {
      "text/plain": [
       "(634657, 19)"
      ]
     },
     "execution_count": 24,
     "metadata": {},
     "output_type": "execute_result"
    }
   ],
   "source": [
    "X = data_prepared\n",
    "y = Target\n",
    "X.shape"
   ]
  },
  {
   "cell_type": "code",
   "execution_count": 25,
   "metadata": {},
   "outputs": [
    {
     "name": "stdout",
     "output_type": "stream",
     "text": [
      "(634657, 2)\n",
      "(634657, 19)\n"
     ]
    }
   ],
   "source": [
    "from sklearn.decomposition import PCA\n",
    "# Make an instance of the Model\n",
    "pca = PCA(n_components=2, random_state=42)\n",
    "pca.fit(data_prepared)\n",
    "X_reduced = pca.fit_transform(X)\n",
    "print(X_reduced.shape)\n",
    "print(data_prepared.shape)"
   ]
  },
  {
   "cell_type": "code",
   "execution_count": 26,
   "metadata": {},
   "outputs": [
    {
     "data": {
      "image/png": "[encoded data removed]",
      "text/plain": [
       "<Figure size 864x720 with 1 Axes>"
      ]
     },
     "metadata": {
      "needs_background": "light"
     },
     "output_type": "display_data"
    }
   ],
   "source": [
    "target_ids = range(len(np.unique(y)))\n",
    "\n",
    "from matplotlib import pyplot as plt\n",
    "plt.figure(figsize=(12, 10))\n",
    "colors = 'r', 'g', 'b', 'c', 'm'\n",
    "for i, c, label in zip(target_ids, colors, np.unique(y)):\n",
    "    plt.scatter(X_reduced[y == i, 0], X_reduced[y == i, 1], c=c, label=label)\n",
    "plt.legend()\n",
    "plt.show()"
   ]
  },
  {
   "cell_type": "code",
   "execution_count": null,
   "metadata": {
    "collapsed": true
   },
   "outputs": [],
   "source": []
  },
  {
   "cell_type": "code",
   "execution_count": null,
   "metadata": {
    "collapsed": true
   },
   "outputs": [],
   "source": []
  },
  {
   "cell_type": "code",
   "execution_count": 50,
   "metadata": {
    "collapsed": true
   },
   "outputs": [],
   "source": [
    "data = train_set.drop(\"YOUNGEST_DEP_AGE_RANGE\", axis=1) # drop labels for training set\n",
    "Target = train_set[\"YOUNGEST_DEP_AGE_RANGE\"].copy()"
   ]
  },
  {
   "cell_type": "code",
   "execution_count": 51,
   "metadata": {
    "collapsed": true
   },
   "outputs": [],
   "source": [
    "data_num=data[['FAMILY_SIZE','AGE','SHELTER_COSTS','MONTHS_ON_ASSISTANCE']].copy()\n",
    "data_cat=data.drop(['FAMILY_SIZE','AGE','SHELTER_COSTS','MONTHS_ON_ASSISTANCE'], axis = 1)"
   ]
  },
  {
   "cell_type": "code",
   "execution_count": 52,
   "metadata": {
    "collapsed": true
   },
   "outputs": [],
   "source": [
    "num_attribs = list(data_num)\n",
    "cat_attribs = list(data_cat)"
   ]
  },
  {
   "cell_type": "code",
   "execution_count": 53,
   "metadata": {},
   "outputs": [
    {
     "data": {
      "text/plain": [
       "(634657, 21)"
      ]
     },
     "execution_count": 53,
     "metadata": {},
     "output_type": "execute_result"
    }
   ],
   "source": [
    "from sklearn.pipeline import Pipeline\n",
    "from future_encoders import ColumnTransformer\n",
    "from sklearn.preprocessing import StandardScaler\n",
    "from future_encoders import OneHotEncoder\n",
    "\n",
    "full_pipeline = ColumnTransformer([\n",
    "        (\"num\", StandardScaler(), num_attribs),\n",
    "        (\"cat\", OneHotEncoder(), cat_attribs),\n",
    "    ])\n",
    "\n",
    "data_prepared = full_pipeline.fit_transform(data)\n",
    "data_prepared.shape\n"
   ]
  },
  {
   "cell_type": "code",
   "execution_count": 54,
   "metadata": {},
   "outputs": [
    {
     "data": {
      "text/plain": [
       "(634657, 21)"
      ]
     },
     "execution_count": 54,
     "metadata": {},
     "output_type": "execute_result"
    }
   ],
   "source": [
    "X = data_prepared\n",
    "y = Target\n",
    "X.shape"
   ]
  },
  {
   "cell_type": "code",
   "execution_count": 55,
   "metadata": {},
   "outputs": [
    {
     "name": "stdout",
     "output_type": "stream",
     "text": [
      "(634657, 2)\n",
      "(634657, 21)\n"
     ]
    }
   ],
   "source": [
    "from sklearn.decomposition import PCA\n",
    "# Make an instance of the Model\n",
    "pca = PCA(n_components=2, random_state=42)\n",
    "pca.fit(data_prepared)\n",
    "X_reduced = pca.fit_transform(X)\n",
    "print(X_reduced.shape)\n",
    "print(data_prepared.shape)"
   ]
  },
  {
   "cell_type": "code",
   "execution_count": 56,
   "metadata": {},
   "outputs": [
    {
     "data": {
      "image/png": "[encoded data removed]",
      "text/plain": [
       "<Figure size 864x720 with 1 Axes>"
      ]
     },
     "metadata": {
      "needs_background": "light"
     },
     "output_type": "display_data"
    }
   ],
   "source": [
    "target_ids = range(len(np.unique(y)))\n",
    "\n",
    "from matplotlib import pyplot as plt\n",
    "plt.figure(figsize=(12, 10))\n",
    "colors = 'r', 'g', 'b', 'c', 'm'\n",
    "for i, c, label in zip(target_ids, colors, np.unique(y)):\n",
    "    plt.scatter(X_reduced[y == i, 0], X_reduced[y == i, 1], c=c, label=label)\n",
    "plt.legend()\n",
    "plt.show()"
   ]
  },
  {
   "cell_type": "code",
   "execution_count": null,
   "metadata": {
    "collapsed": true
   },
   "outputs": [],
   "source": [
    "from sklearn.manifold import LocallyLinearEmbedding\n",
    "\n",
    "from sklearn.pipeline import Pipeline\n",
    "\n",
    "pca_lle = Pipeline([\n",
    "    (\"pca\", PCA(n_components=0.95, random_state=42)),\n",
    "    (\"lle\", LocallyLinearEmbedding(n_components=2, random_state=42)),\n",
    "])\n",
    "\n",
    "X_pca_lle_reduced = pca_lle.fit_transform(X)\n",
    "\n",
    "\n",
    "\n"
   ]
  },
  {
   "cell_type": "code",
   "execution_count": null,
   "metadata": {
    "collapsed": true
   },
   "outputs": [],
   "source": [
    "target_ids = range(len(np.unique(y)))\n",
    "\n",
    "from matplotlib import pyplot as plt\n",
    "plt.figure(figsize=(12, 10))\n",
    "colors = 'r', 'g', 'b', 'c', 'm'\n",
    "for i, c, label in zip(target_ids, colors, np.unique(y)):\n",
    "    plt.scatter(X_pca_lle_reduced[y == i, 0], X_pca_lle_reduced[y == i, 1], c=c, label=label)\n",
    "plt.legend()\n",
    "plt.show()"
   ]
  },
  {
   "cell_type": "code",
   "execution_count": null,
   "metadata": {
    "collapsed": true
   },
   "outputs": [],
   "source": []
  },
  {
   "cell_type": "code",
   "execution_count": 19,
   "metadata": {
    "collapsed": true
   },
   "outputs": [],
   "source": [
    "data = train_set.drop(\"MONTHS_ON_ASSISTANCE\", axis=1) # drop labels for training set\n",
    "data_labels = train_set[\"MONTHS_ON_ASSISTANCE\"].copy()"
   ]
  },
  {
   "cell_type": "code",
   "execution_count": 20,
   "metadata": {
    "collapsed": true
   },
   "outputs": [],
   "source": [
    "data_num=data[['FAMILY_SIZE','AGE','SHELTER_COSTS','TIMES_ON_ASSISTANCE']].copy()\n",
    "data_cat=data.drop(['FAMILY_SIZE','AGE','SHELTER_COSTS','TIMES_ON_ASSISTANCE'], axis = 1)"
   ]
  },
  {
   "cell_type": "code",
   "execution_count": 21,
   "metadata": {},
   "outputs": [
    {
     "data": {
      "text/plain": [
       "array([[0., 1., 0., ..., 0., 0., 0.],\n",
       "       [0., 1., 0., ..., 0., 0., 0.],\n",
       "       [0., 1., 1., ..., 0., 0., 0.],\n",
       "       ...,\n",
       "       [1., 0., 1., ..., 1., 0., 0.],\n",
       "       [1., 0., 0., ..., 0., 0., 0.],\n",
       "       [1., 0., 0., ..., 0., 0., 0.]])"
      ]
     },
     "execution_count": 21,
     "metadata": {},
     "output_type": "execute_result"
    }
   ],
   "source": [
    "from future_encoders import OneHotEncoder\n",
    "cat_encoder = OneHotEncoder(sparse=False)\n",
    "Data_cat_1hot = cat_encoder.fit_transform(data_cat)\n",
    "Data_cat_1hot"
   ]
  },
  {
   "cell_type": "code",
   "execution_count": 22,
   "metadata": {
    "collapsed": true
   },
   "outputs": [],
   "source": [
    "num_attribs = list(data_num)\n",
    "cat_attribs = list(data_cat)"
   ]
  },
  {
   "cell_type": "code",
   "execution_count": 23,
   "metadata": {
    "collapsed": true
   },
   "outputs": [],
   "source": [
    "from sklearn.pipeline import Pipeline\n",
    "from future_encoders import ColumnTransformer\n",
    "from sklearn.preprocessing import StandardScaler\n",
    "from future_encoders import OneHotEncoder\n",
    "\n",
    "full_pipeline = ColumnTransformer([\n",
    "        (\"num\", StandardScaler(), num_attribs),\n",
    "        (\"cat\", OneHotEncoder(), cat_attribs),\n",
    "    ])\n",
    "\n",
    "data_prepared = full_pipeline.fit_transform(data)"
   ]
  },
  {
   "cell_type": "code",
   "execution_count": 24,
   "metadata": {},
   "outputs": [
    {
     "data": {
      "text/plain": [
       "(634657, 22)"
      ]
     },
     "execution_count": 24,
     "metadata": {},
     "output_type": "execute_result"
    }
   ],
   "source": [
    "data_prepared.shape"
   ]
  },
  {
   "cell_type": "markdown",
   "metadata": {},
   "source": [
    "### Select and train models"
   ]
  },
  {
   "cell_type": "code",
   "execution_count": 25,
   "metadata": {},
   "outputs": [
    {
     "data": {
      "text/plain": [
       "LinearRegression(copy_X=True, fit_intercept=True, n_jobs=1, normalize=False)"
      ]
     },
     "execution_count": 25,
     "metadata": {},
     "output_type": "execute_result"
    }
   ],
   "source": [
    "from sklearn.linear_model import LinearRegression\n",
    "\n",
    "lin_reg = LinearRegression()\n",
    "lin_reg.fit(data_prepared, data_labels)"
   ]
  },
  {
   "cell_type": "code",
   "execution_count": 26,
   "metadata": {
    "scrolled": true
   },
   "outputs": [
    {
     "data": {
      "text/plain": [
       "37.33080266254067"
      ]
     },
     "execution_count": 26,
     "metadata": {},
     "output_type": "execute_result"
    }
   ],
   "source": [
    "from sklearn.metrics import mean_squared_error\n",
    "\n",
    "data_predictions = lin_reg.predict(data_prepared)\n",
    "lin_mse = mean_squared_error(data_labels, data_predictions)\n",
    "lin_rmse = np.sqrt(lin_mse)\n",
    "lin_rmse"
   ]
  },
  {
   "cell_type": "code",
   "execution_count": 27,
   "metadata": {},
   "outputs": [
    {
     "name": "stderr",
     "output_type": "stream",
     "text": [
      "C:\\Users\\TOILET4\\Anaconda3\\lib\\site-packages\\sklearn\\ensemble\\weight_boosting.py:29: DeprecationWarning:\n",
      "\n",
      "numpy.core.umath_tests is an internal NumPy module and should not be imported. It will be removed in a future NumPy release.\n",
      "\n"
     ]
    },
    {
     "data": {
      "text/plain": [
       "RandomForestRegressor(bootstrap=True, criterion='mse', max_depth=None,\n",
       "           max_features='auto', max_leaf_nodes=None,\n",
       "           min_impurity_decrease=0.0, min_impurity_split=None,\n",
       "           min_samples_leaf=1, min_samples_split=2,\n",
       "           min_weight_fraction_leaf=0.0, n_estimators=10, n_jobs=1,\n",
       "           oob_score=False, random_state=42, verbose=0, warm_start=False)"
      ]
     },
     "execution_count": 27,
     "metadata": {},
     "output_type": "execute_result"
    }
   ],
   "source": [
    "from sklearn.ensemble import RandomForestRegressor\n",
    "\n",
    "forest_reg = RandomForestRegressor(random_state=42)\n",
    "forest_reg.fit(data_prepared, data_labels)"
   ]
  },
  {
   "cell_type": "code",
   "execution_count": 28,
   "metadata": {},
   "outputs": [
    {
     "data": {
      "text/plain": [
       "33.86599728701118"
      ]
     },
     "execution_count": 28,
     "metadata": {},
     "output_type": "execute_result"
    }
   ],
   "source": [
    "data_predictions = forest_reg.predict(data_prepared)\n",
    "forest_mse = mean_squared_error(data_labels, data_predictions)\n",
    "forest_rmse = np.sqrt(forest_mse)\n",
    "forest_rmse"
   ]
  },
  {
   "cell_type": "code",
   "execution_count": 29,
   "metadata": {
    "collapsed": true
   },
   "outputs": [],
   "source": [
    "#from sklearn.svm import SVR\n",
    "\n",
    "#svm_reg = SVR(kernel=\"linear\")\n",
    "#svm_reg.fit(data_prepared, data_labels)\n",
    "#housing_predictions = svm_reg.predict(data_prepared)\n",
    "#svm_mse = mean_squared_error(data_labels, data_predictions)\n",
    "#svm_rmse = np.sqrt(svm_mse)\n",
    "#svm_rmse"
   ]
  },
  {
   "cell_type": "markdown",
   "metadata": {},
   "source": [
    "### Fine tune the models"
   ]
  },
  {
   "cell_type": "code",
   "execution_count": 30,
   "metadata": {
    "collapsed": true
   },
   "outputs": [],
   "source": [
    "def display_scores(scores):\n",
    "    print(\"Scores:\", scores)\n",
    "    print(\"Mean:\", scores.mean())\n",
    "    print(\"Standard deviation:\", scores.std())"
   ]
  },
  {
   "cell_type": "code",
   "execution_count": 31,
   "metadata": {},
   "outputs": [
    {
     "name": "stdout",
     "output_type": "stream",
     "text": [
      "Scores: [34.51651606 34.40724064 34.47095608 34.36443408 34.35130792 34.49864846\n",
      " 34.49015957 34.64594867 34.62636787 34.39005548]\n",
      "Mean: 34.476163482427594\n",
      "Standard deviation: 0.09694462270876497\n"
     ]
    }
   ],
   "source": [
    "from sklearn.model_selection import cross_val_score\n",
    "\n",
    "forest_scores = cross_val_score(forest_reg, data_prepared, data_labels,\n",
    "                                scoring=\"neg_mean_squared_error\", cv=10)\n",
    "forest_rmse_scores = np.sqrt(-forest_scores)\n",
    "display_scores(forest_rmse_scores)"
   ]
  },
  {
   "cell_type": "code",
   "execution_count": null,
   "metadata": {
    "collapsed": true
   },
   "outputs": [],
   "source": [
    "from sklearn.model_selection import GridSearchCV\n",
    "\n",
    "param_grid = [\n",
    "    # try 12 (3×4) combinations of hyperparameters\n",
    "    {'n_estimators': [3, 10, 30], 'max_features': [2, 4, 6, 8]},\n",
    "    # then try 6 (2×3) combinations with bootstrap set as False\n",
    "    {'bootstrap': [False], 'n_estimators': [3, 10], 'max_features': [2, 3, 4]},\n",
    "  ]\n",
    "\n",
    "forest_reg = RandomForestRegressor(random_state=42)\n",
    "# train across 5 folds, that's a total of (12+6)*5=90 rounds of training \n",
    "grid_search = GridSearchCV(forest_reg, param_grid, cv=5,\n",
    "                           scoring='neg_mean_squared_error', return_train_score=True)\n",
    "grid_search.fit(data_prepared, data_labels)"
   ]
  },
  {
   "cell_type": "code",
   "execution_count": null,
   "metadata": {
    "collapsed": true
   },
   "outputs": [],
   "source": [
    "grid_search.best_params_"
   ]
  },
  {
   "cell_type": "code",
   "execution_count": null,
   "metadata": {
    "collapsed": true
   },
   "outputs": [],
   "source": [
    "cvres = grid_search.cv_results_\n",
    "for mean_score, params in zip(cvres[\"mean_test_score\"], cvres[\"params\"]):\n",
    "    print(np.sqrt(-mean_score), params)"
   ]
  },
  {
   "cell_type": "code",
   "execution_count": null,
   "metadata": {
    "collapsed": true
   },
   "outputs": [],
   "source": [
    "scores = cross_val_score(lin_reg, data_prepared, data_labels, scoring=\"neg_mean_squared_error\", cv=10)\n",
    "pd.Series(np.sqrt(-scores)).describe()"
   ]
  },
  {
   "cell_type": "code",
   "execution_count": null,
   "metadata": {
    "collapsed": true
   },
   "outputs": [],
   "source": [
    "final_model = grid_search.best_estimator_\n",
    "\n",
    "X_test = test_set.drop(\"MONTHS_ON_ASSISTANCE\", axis=1)\n",
    "y_test = test_set[\"MONTHS_ON_ASSISTANCE\"].copy()\n",
    "\n",
    "X_test_prepared = full_pipeline.transform(X_test)\n",
    "final_predictions = final_model.predict(X_test_prepared)\n",
    "\n",
    "final_mse = mean_squared_error(y_test, final_predictions)\n",
    "final_rmse = np.sqrt(final_mse)"
   ]
  }
 ],
 "metadata": {
  "kernelspec": {
   "display_name": "Python 3",
   "language": "python",
   "name": "python3"
  },
  "language_info": {
   "codemirror_mode": {
    "name": "ipython",
    "version": 3
   },
   "file_extension": ".py",
   "mimetype": "text/x-python",
   "name": "python",
   "nbconvert_exporter": "python",
   "pygments_lexer": "ipython3",
   "version": "3.6.3"
  }
 },
 "nbformat": 4,
 "nbformat_minor": 2
}
